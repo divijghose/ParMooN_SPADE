{
 "cells": [
  {
   "cell_type": "code",
   "execution_count": 11,
   "metadata": {},
   "outputs": [],
   "source": [
    "import vtk\n",
    "from vtk import vtkStructuredPointsReader\n",
    "from vtk.util import numpy_support as VN\n",
    "import numpy as np\n",
    "\n"
   ]
  },
  {
   "cell_type": "code",
   "execution_count": 41,
   "metadata": {},
   "outputs": [],
   "source": [
    "tempFileName = \"Realization_Nr_0.00000.vtk\"\n",
    "readerTemp = vtk.vtkGenericDataObjectReader()\n",
    "readerTemp.SetFileName(tempFileName)\n",
    "readerTemp.ReadAllVectorsOn()\n",
    "readerTemp.ReadAllScalarsOn()\n",
    "readerTemp.Update()\n",
    "dataTemp = readerTemp.GetOutput()\n",
    "plen = len(np.array(dataTemp.GetPointData().GetArray('p')))\n",
    "u1len = len(np.array(dataTemp.GetPointData().GetArray('u1')))\n",
    "u2len = len(np.array(dataTemp.GetPointData().GetArray('u2')))\n",
    "u1Mean = np.zeros(u1len)\n",
    "u2Mean = np.zeros(u2len)\n",
    "pMean = np.zeros(plen)\n",
    "N_R = 1\n",
    "endtimestep = 1\n",
    "for i in range(endtimestep):\n",
    "    for j in range(N_R):\n",
    "        if(i < 10):\n",
    "            filename = \"Realization_Nr_\"+str(j)+\".0000\"+str(i)+\".vtk\"\n",
    "        elif(i >= 10 and i < 100):\n",
    "            filename = \"Realization_Nr_\"+str(j)+\".000\"+str(i)+\".vtk\"\n",
    "        elif(i >= 100):\n",
    "            filename = \"Realization_Nr_\"+str(j)+\".00\"+str(i)+\".vtk\"\n",
    "\n",
    "        reader = vtk.vtkGenericDataObjectReader()\n",
    "        reader.SetFileName(filename)\n",
    "        reader.ReadAllVectorsOn()\n",
    "        reader.ReadAllScalarsOn()\n",
    "        reader.Update()\n",
    "        data = reader.GetOutput()\n",
    "        p = np.array(data.GetPointData().GetArray('p'))\n",
    "        u1 = np.array(data.GetPointData().GetArray('u1'))\n",
    "        u2 = np.array(data.GetPointData().GetArray('u2'))\n",
    "        np.add(u1Mean, u1, out=u1Mean)\n",
    "        np.add(u2Mean, u2, out=u2Mean)\n",
    "        np.add(pMean, p, out=pMean)\n",
    "\n",
    "\n",
    "u1Mean = u1Mean/N_R\n",
    "u2Mean = u2Mean/N_R\n",
    "pMean = pMean/N_R\n",
    "\n",
    "\n",
    "\n",
    "\n"
   ]
  },
  {
   "cell_type": "code",
   "execution_count": 27,
   "metadata": {},
   "outputs": [],
   "source": []
  },
  {
   "cell_type": "code",
   "execution_count": 37,
   "metadata": {},
   "outputs": [
    {
     "data": {
      "text/plain": [
       "1089"
      ]
     },
     "execution_count": 37,
     "metadata": {},
     "output_type": "execute_result"
    }
   ],
   "source": [
    "p = np.array(data.GetPointData().GetArray('p'))\n",
    "u1 = np.array(data.GetPointData().GetArray('u1'))\n",
    "u2 = np.array(data.GetPointData().GetArray('u2'))\n",
    "\n",
    "len(u2)"
   ]
  },
  {
   "cell_type": "code",
   "execution_count": 33,
   "metadata": {},
   "outputs": [
    {
     "data": {
      "text/plain": [
       "array([0.29452646, 0.2254352 , 0.16182351, ..., 0.        , 0.70305276,\n",
       "       0.        ], dtype=float32)"
      ]
     },
     "execution_count": 33,
     "metadata": {},
     "output_type": "execute_result"
    }
   ],
   "source": [
    "u2"
   ]
  },
  {
   "cell_type": "code",
   "execution_count": null,
   "metadata": {},
   "outputs": [],
   "source": []
  }
 ],
 "metadata": {
  "interpreter": {
   "hash": "3a69b35021930759ae8c89a5996530329bfe0e0391518a4d0dbe9ac1f9200028"
  },
  "kernelspec": {
   "display_name": "Python 3.8.8 ('base')",
   "language": "python",
   "name": "python3"
  },
  "language_info": {
   "codemirror_mode": {
    "name": "ipython",
    "version": 3
   },
   "file_extension": ".py",
   "mimetype": "text/x-python",
   "name": "python",
   "nbconvert_exporter": "python",
   "pygments_lexer": "ipython3",
   "version": "3.8.8"
  },
  "orig_nbformat": 4
 },
 "nbformat": 4,
 "nbformat_minor": 2
}
